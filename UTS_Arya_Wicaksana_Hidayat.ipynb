{
  "nbformat": 4,
  "nbformat_minor": 0,
  "metadata": {
    "colab": {
      "provenance": [],
      "authorship_tag": "ABX9TyMlYYH6UkLKZKI2I4M4FWFd",
      "include_colab_link": true
    },
    "kernelspec": {
      "name": "python3",
      "display_name": "Python 3"
    },
    "language_info": {
      "name": "python"
    }
  },
  "cells": [
    {
      "cell_type": "markdown",
      "metadata": {
        "id": "view-in-github",
        "colab_type": "text"
      },
      "source": [
        "<a href=\"https://colab.research.google.com/github/AryaWicaksanaH/uts-machine-learning-ti3f/blob/main/UTS_Arya_Wicaksana_Hidayat.ipynb\" target=\"_parent\"><img src=\"https://colab.research.google.com/assets/colab-badge.svg\" alt=\"Open In Colab\"/></a>"
      ]
    },
    {
      "cell_type": "markdown",
      "source": [
        "- Nama  : Arya Wicaksana Hidayat\n",
        "- NIM   : 2141720207\n",
        "- Kelas : TI-3F"
      ],
      "metadata": {
        "id": "9-1DHccosRWl"
      }
    },
    {
      "cell_type": "markdown",
      "source": [
        "# UTS"
      ],
      "metadata": {
        "id": "i-tQBs3Fscs7"
      }
    },
    {
      "cell_type": "markdown",
      "source": [
        "Berdasarkan pemaparan kasus, Anda diminta untuk,\n",
        "\n",
        "- Pilih 5 citra plat nomor untuk setiap anggota kelompok dari dataset yang telah disediakan. [DOWNLOAD](https://storage.googleapis.com/kuliah_mah/dummy.zip)\n",
        "- Lakukan segmentasi pada citra plat nomor untuk memperjelas karakter pada plat nomor.\n",
        "- Anda dapat menggunakan algortima K-Means seperti yang telah dijelaskan pada praktikum sebelumnya atau menggunakan algoritma klasterisasi yang lain.\n",
        "- Anda diperkenankan untuk melakukan pra pengolahan data (preprocessing) pada citra seperti,\n",
        "  - Merubah color space\n",
        "  - Reduksi dimensi\n",
        "  - dsb\n",
        "- Tampilkan perbandingan citra antara sebelum dan sesudah di segmentasi"
      ],
      "metadata": {
        "id": "tIk6MLs0seh5"
      }
    },
    {
      "cell_type": "markdown",
      "source": [
        "**Catatan :**\n",
        "\n",
        "- Proses loading citra dicontohkan dengan menggunakan library openCV\n",
        "- Secara default, openCV akan memuat citra dalam format BGR"
      ],
      "metadata": {
        "id": "CHsFN71-sylD"
      }
    },
    {
      "cell_type": "code",
      "source": [
        "import numpy as np\n",
        "import cv2\n",
        "import matplotlib.pyplot as plt\n",
        "from google.colab.patches import cv2_imshow # path cv2.imshow di google colab"
      ],
      "metadata": {
        "id": "-mogmuyOt10m"
      },
      "execution_count": 1,
      "outputs": []
    }
  ]
}